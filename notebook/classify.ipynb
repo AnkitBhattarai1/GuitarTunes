{
 "cells": [
  {
   "cell_type": "code",
   "execution_count": 1,
   "metadata": {},
   "outputs": [
    {
     "name": "stdout",
     "output_type": "stream",
     "text": [
      "No GPUs found.\n"
     ]
    }
   ],
   "source": [
    "from keras.models import model_from_json\n",
    "import tensorflow as tf\n",
    "from keras import backend as K\n",
    "gpus = tf.config.list_physical_devices('GPU')\n",
    "if gpus:\n",
    "    for gpu in gpus:\n",
    "        print(gpu)\n",
    "else:\n",
    "    print(\"No GPUs found.\")\n",
    "import librosa\n",
    "import librosa.display\n",
    "import numpy as np\n",
    "import os"
   ]
  },
  {
   "cell_type": "code",
   "execution_count": 2,
   "metadata": {},
   "outputs": [
    {
     "name": "stdout",
     "output_type": "stream",
     "text": [
      "Loaded model from disk\n"
     ]
    }
   ],
   "source": [
    "\n",
    "json_file = open('/Users/dikshantthapa/Desktop/GuitarTunes/GuitarTunes/models/model.json', 'r')\n",
    "loaded_model_json = json_file.read()\n",
    "json_file.close()\n",
    "loaded_model = model_from_json(loaded_model_json)\n",
    "\n",
    "loaded_model.load_weights(\"/Users/dikshantthapa/Desktop/GuitarTunes/GuitarTunes/models/model.h5\")\n",
    "print(\"Loaded model from disk\")"
   ]
  },
  {
   "cell_type": "code",
   "execution_count": 3,
   "metadata": {},
   "outputs": [],
   "source": [
    "def precision(y_true, y_pred):\n",
    "   \n",
    "    true_positives = K.sum(K.round(K.clip(y_true * y_pred, 0, 1)))\n",
    "    predicted_positives = K.sum(K.round(K.clip(y_pred, 0, 1)))\n",
    "    precision = true_positives / (predicted_positives + K.epsilon())\n",
    "    return precision\n",
    "\n",
    "\n",
    "def recall(y_true, y_pred):\n",
    "   \n",
    "    true_positives = K.sum(K.round(K.clip(y_true * y_pred, 0, 1)))\n",
    "    possible_positives = K.sum(K.round(K.clip(y_true, 0, 1)))\n",
    "    recall = true_positives / (possible_positives + K.epsilon())\n",
    "    return recall\n",
    "\n",
    "\n",
    "def fbeta_score(y_true, y_pred, beta=1):\n",
    "    if beta < 0:\n",
    "        raise ValueError('The lowest choosable beta is zero (only precision).')\n",
    "        \n",
    "    \n",
    "    if K.sum(K.round(K.clip(y_true, 0, 1))) == 0:\n",
    "        return 0\n",
    "\n",
    "    p = precision(y_true, y_pred)\n",
    "    r = recall(y_true, y_pred)\n",
    "    bb = beta ** 2\n",
    "    fbeta_score = (1 + bb) * (p * r) / (bb * p + r + K.epsilon())\n",
    "    return fbeta_score\n",
    "\n",
    "\n",
    "def fmeasure(y_true, y_pred):\n",
    "    return fbeta_score(y_true, y_pred, beta=1)"
   ]
  },
  {
   "cell_type": "code",
   "execution_count": 4,
   "metadata": {},
   "outputs": [],
   "source": [
    "loaded_model.compile(\n",
    "\toptimizer=\"Adam\",\n",
    "\tloss=\"categorical_crossentropy\",\n",
    "\tmetrics=['accuracy', precision, recall,fmeasure])"
   ]
  },
  {
   "cell_type": "code",
   "execution_count": 5,
   "metadata": {},
   "outputs": [],
   "source": [
    "def record():\n",
    "    import pyaudio\n",
    "    import wave\n",
    "\n",
    "    FORMAT = pyaudio.paInt16\n",
    "    CHANNELS = 2\n",
    "    RATE = 44100\n",
    "    CHUNK = 1024\n",
    "    RECORD_SECONDS = 5\n",
    "    WAVE_OUTPUT_FILENAME = \"/Users/dikshantthapa/Documents/FlutterDev/Sem_project/GuitarTunes/notebook/data/Music/Training/Am/Am_AcusticPlug15_4.wav\"\n",
    "\n",
    "    audio = pyaudio.PyAudio()\n",
    "\n",
    "    # start Recording\n",
    "    stream = audio.open(format=FORMAT, channels=CHANNELS,\n",
    "                    rate=RATE, input=True,\n",
    "                    frames_per_buffer=CHUNK)\n",
    "    print (\"recording...\")\n",
    "    frames = []\n",
    "\n",
    "    for i in range(0, int(RATE / CHUNK * RECORD_SECONDS)):\n",
    "        data = stream.read(CHUNK)\n",
    "        frames.append(data)\n",
    "    print (\"finished recording\")\n",
    "\n",
    "\n",
    "    # stop Recording\n",
    "    stream.stop_stream()\n",
    "    stream.close()\n",
    "    audio.terminate()\n",
    "\n",
    "    waveFile = wave.open(WAVE_OUTPUT_FILENAME, 'wb')\n",
    "    waveFile.setnchannels(CHANNELS)\n",
    "    waveFile.setsampwidth(audio.get_sample_size(FORMAT))\n",
    "    waveFile.setframerate(RATE)\n",
    "    waveFile.writeframes(b''.join(frames))\n",
    "    waveFile.close()"
   ]
  },
  {
   "cell_type": "code",
   "execution_count": 7,
   "metadata": {},
   "outputs": [
    {
     "name": "stderr",
     "output_type": "stream",
     "text": [
      "/Library/Frameworks/Python.framework/Versions/3.11/lib/python3.11/site-packages/numba/np/ufunc/ufuncbuilder.py:328: NumbaDeprecationWarning: The 'nopython' keyword argument was not supplied to the 'numba.jit' decorator. The implicit default value for this argument is currently False, but it will be changed to True in Numba 0.59.0. See https://numba.readthedocs.io/en/stable/reference/deprecation.html#deprecation-of-object-mode-fall-back-behaviour-when-using-jit for details.\n",
      "  self.nb_func = jit(_target='npyufunc', cache=cache)(py_func)\n"
     ]
    },
    {
     "data": {
      "text/plain": [
       "(1, 128, 87, 1)"
      ]
     },
     "execution_count": 7,
     "metadata": {},
     "output_type": "execute_result"
    }
   ],
   "source": [
    "\n",
    "y, sr = librosa.load('/Users/dikshantthapa/Documents/FlutterDev/Sem_project/server_tune/Am_AcousticGuitar_RodrigoMercador_1.wav',duration=2)\n",
    "ps = librosa.feature.melspectrogram(y=y, sr=sr)\n",
    "ps.shape\n",
    "ps= np.array(ps.reshape(1,128,87,1))\n",
    "ps.shape"
   ]
  },
  {
   "cell_type": "code",
   "execution_count": 8,
   "metadata": {},
   "outputs": [
    {
     "name": "stdout",
     "output_type": "stream",
     "text": [
      "1/1 [==============================] - 0s 122ms/step\n"
     ]
    },
    {
     "data": {
      "text/plain": [
       "array([[0., 1., 0., 0., 0., 0., 0., 0., 0., 0.]], dtype=float32)"
      ]
     },
     "execution_count": 8,
     "metadata": {},
     "output_type": "execute_result"
    }
   ],
   "source": [
    "predictions = loaded_model.predict(ps)\n",
    "predictions"
   ]
  },
  {
   "cell_type": "code",
   "execution_count": null,
   "metadata": {},
   "outputs": [],
   "source": []
  },
  {
   "cell_type": "code",
   "execution_count": 9,
   "metadata": {},
   "outputs": [
    {
     "data": {
      "text/plain": [
       "array([0., 1., 0., 0., 0., 0., 0., 0., 0., 0.], dtype=float32)"
      ]
     },
     "execution_count": 9,
     "metadata": {},
     "output_type": "execute_result"
    }
   ],
   "source": [
    "# class_id=(predictions[0])\n",
    "class_id = predictions[0]\n",
    "class_id\n",
    "\n"
   ]
  },
  {
   "cell_type": "code",
   "execution_count": 10,
   "metadata": {},
   "outputs": [
    {
     "data": {
      "text/plain": [
       "1"
      ]
     },
     "execution_count": 10,
     "metadata": {},
     "output_type": "execute_result"
    }
   ],
   "source": [
    "for i, output in enumerate(class_id):\n",
    "    if output == 1.0:\n",
    "        value = i\n",
    "        break\n",
    "\n",
    "value"
   ]
  },
  {
   "cell_type": "code",
   "execution_count": 12,
   "metadata": {},
   "outputs": [
    {
     "data": {
      "text/plain": [
       "'am'"
      ]
     },
     "execution_count": 12,
     "metadata": {},
     "output_type": "execute_result"
    }
   ],
   "source": [
    "classes = np.array(['a','am','bm','c','d','dm','e','em','f','g'])\n",
    "classes[value]"
   ]
  },
  {
   "cell_type": "code",
   "execution_count": 13,
   "metadata": {},
   "outputs": [],
   "source": [
    "#print(classes[class_id])\n",
    "#if isinstance(class_id, int) and 0 <= class_id < len(classes):\n",
    "#    print(classes[class_id])\n",
    "#else:\n",
    "#    print(\"Invalid class_id\")"
   ]
  },
  {
   "cell_type": "code",
   "execution_count": 42,
   "metadata": {},
   "outputs": [
    {
     "name": "stdout",
     "output_type": "stream",
     "text": [
      "pygame 2.4.0 (SDL 2.26.4, Python 3.11.0)\n",
      "Hello from the pygame community. https://www.pygame.org/contribute.html\n",
      "Loaded model from disk\n"
     ]
    },
    {
     "name": "stderr",
     "output_type": "stream",
     "text": [
      "Exception in Tkinter callback\n",
      "Traceback (most recent call last):\n",
      "  File \"/Library/Frameworks/Python.framework/Versions/3.11/lib/python3.11/tkinter/__init__.py\", line 1948, in __call__\n",
      "    return self.func(*args)\n",
      "           ^^^^^^^^^^^^^^^^\n",
      "  File \"/var/folders/j0/kx0rsn7x28l84ccbn6ndhx5c0000gn/T/ipykernel_25268/3494620113.py\", line 65, in record\n",
      "    import pyaudio\n",
      "ModuleNotFoundError: No module named 'pyaudio'\n",
      "Exception in Tkinter callback\n",
      "Traceback (most recent call last):\n",
      "  File \"/Library/Frameworks/Python.framework/Versions/3.11/lib/python3.11/tkinter/__init__.py\", line 1948, in __call__\n",
      "    return self.func(*args)\n",
      "           ^^^^^^^^^^^^^^^^\n",
      "  File \"/var/folders/j0/kx0rsn7x28l84ccbn6ndhx5c0000gn/T/ipykernel_25268/3494620113.py\", line 119, in play\n",
      "    mixer.Sound(\"/Users/dikshantthapa/Documents/FlutterDev/Sem_project/GuitarTunes/notebook/data/recorded.wav\").play()\n",
      "    ^^^^^^^^^^^^^^^^^^^^^^^^^^^^^^^^^^^^^^^^^^^^^^^^^^^^^^^^^^^^^^^^^^^^^^^^^^^^^^^^^^^^^^^^^^^^^^^^^^^^^^^^^^^\n",
      "pygame.error: Couldn't read first 4 bytes of audio data\n"
     ]
    }
   ],
   "source": [
    "\n",
    "# from keras.models import model_from_json\n",
    "# from keras import backend as K\n",
    "# import librosa\n",
    "# import librosa.display\n",
    "# import numpy as np\n",
    "# import os\n",
    "# from tkinter import *\n",
    "# from pygame import mixer\n",
    "# mixer.init(44100)\n",
    "# from PIL import Image, ImageTk\n",
    "# import pandas as pd\n",
    "# tk=Tk()\n",
    "# import time\n",
    "\n",
    "# canvas_width=500\n",
    "# canvas_height=300\n",
    "\n",
    "# canvas=Canvas(tk,width=canvas_width,height=canvas_height)\n",
    "# canvas.pack() \n",
    "\n",
    "# import matplotlib.pyplot as plt\n",
    "# import pylab\n",
    "\n",
    "\n",
    "# def precision(y_true, y_pred):\n",
    "#     true_positives = K.sum(K.round(K.clip(y_true * y_pred, 0, 1)))\n",
    "#     predicted_positives = K.sum(K.round(K.clip(y_pred, 0, 1)))\n",
    "#     precision = true_positives / (predicted_positives + K.epsilon())\n",
    "#     return precision\n",
    "\n",
    "\n",
    "# def recall(y_true, y_pred):\n",
    "#     true_positives = K.sum(K.round(K.clip(y_true * y_pred, 0, 1)))\n",
    "#     possible_positives = K.sum(K.round(K.clip(y_true, 0, 1)))\n",
    "#     recall = true_positives / (possible_positives + K.epsilon())\n",
    "#     return recall\n",
    "\n",
    "\n",
    "# def fbeta_score(y_true, y_pred, beta=1):\n",
    "    \n",
    "#     if beta < 0:\n",
    "#         raise ValueError('The lowest choosable beta is zero (only precision).')\n",
    "        \n",
    "    \n",
    "#     if K.sum(K.round(K.clip(y_true, 0, 1))) == 0:\n",
    "#         return 0\n",
    "\n",
    "#     p = precision(y_true, y_pred)\n",
    "#     r = recall(y_true, y_pred)\n",
    "#     bb = beta ** 2\n",
    "#     fbeta_score = (1 + bb) * (p * r) / (bb * p + r + K.epsilon())\n",
    "#     return fbeta_score\n",
    "\n",
    "\n",
    "# def fmeasure(y_true, y_pred):\n",
    "\n",
    "#     return fbeta_score(y_true, y_pred, beta=1)\n",
    "\n",
    "# def restart_program():\n",
    "\n",
    "#     python = sys.executable\n",
    "#     os.execl(python, python, * sys.argv)\n",
    "\n",
    "# def record():\n",
    "#     import pyaudio\n",
    "#     import wave\n",
    "\n",
    "#     FORMAT = pyaudio.paInt16\n",
    "#     CHANNELS = 2\n",
    "#     RATE = 44100\n",
    "#     CHUNK = 1024\n",
    "#     RECORD_SECONDS = 3\n",
    "#     WAVE_OUTPUT_FILENAME = \"/Users/dikshantthapa/Documents/FlutterDev/Sem_project/GuitarTunes/notebook/data/recorded.wav\"\n",
    "\n",
    "#     audio = pyaudio.PyAudio()\n",
    "\n",
    "    \n",
    "#     stream = audio.open(format=FORMAT, channels=CHANNELS,\n",
    "#                     rate=RATE, input=True,\n",
    "#                     frames_per_buffer=CHUNK)\n",
    "#     print (\"recording...\")\n",
    "#     frames = []\n",
    "\n",
    "#     for i in range(0, int(RATE / CHUNK * RECORD_SECONDS)):\n",
    "#         data = stream.read(CHUNK)\n",
    "#         frames.append(data)\n",
    "#     print (\"finished recording\")\n",
    "\n",
    "\n",
    "#     # stop Recording\n",
    "#     stream.stop_stream()\n",
    "#     stream.close()\n",
    "#     audio.terminate()\n",
    "\n",
    "#     waveFile = wave.open(WAVE_OUTPUT_FILENAME, 'wb')\n",
    "#     waveFile.setnchannels(CHANNELS)\n",
    "#     waveFile.setsampwidth(audio.get_sample_size(FORMAT))\n",
    "#     waveFile.setframerate(RATE)\n",
    "#     waveFile.writeframes(b''.join(frames))\n",
    "#     waveFile.close()\n",
    "\n",
    "# def classify():\n",
    "#     # Example of a Siren spectrogram\n",
    "#     y, sr = librosa.load('recorded.wav',duration=2)\n",
    "#     ps = librosa.feature.melspectrogram(y=y, sr=sr,)\n",
    "#     px=ps\n",
    "#     ps.shape\n",
    "#     ps= np.array(ps.reshape(1,128,87,1))\n",
    "#     ps.shape\n",
    "#     predictions = loaded_model.predict_classes(ps)\n",
    "#     class_id=(predictions[0])\n",
    "#     print(\"The recorded chord is \"+str(classes[class_id]))\n",
    "#     result=canvas.create_text(200,200,text=\"The recorded chord is \"+str(classes[class_id]),font=\"Times 15 bold\")\n",
    "\n",
    "\n",
    "\n",
    "\n",
    "# def play():\n",
    "#     mixer.Sound(\"/Users/dikshantthapa/Documents/FlutterDev/Sem_project/GuitarTunes/notebook/data/recorded.wav\").play()\n",
    "    \n",
    "# # load json and create model\n",
    "# json_file = open('/Users/dikshantthapa/Documents/FlutterDev/Sem_project/GuitarTunes/models/model.json', 'r')\n",
    "# loaded_model_json = json_file.read()\n",
    "# json_file.close()\n",
    "# loaded_model = model_from_json(loaded_model_json)\n",
    "# # load weights into new model\n",
    "# loaded_model.load_weights(\"/Users/dikshantthapa/Documents/FlutterDev/Sem_project/GuitarTunes/models/model.h5\")\n",
    "# print(\"Loaded model from disk\")\n",
    "# classes=['a','am','bm','c','d','dm','e','em','f','g']\n",
    "        \n",
    "# loaded_model.compile(\n",
    "# \toptimizer=\"Adam\",\n",
    "# \tloss=\"categorical_crossentropy\",\n",
    "# \tmetrics=['accuracy', precision, recall,fmeasure])\n",
    "          \n",
    "\n",
    "# ox,oy=0,0\n",
    "\n",
    "\n",
    "# #Buttons\n",
    "# record=Button(canvas, text='Record',font=\"Times 15 bold\", command=record)\n",
    "# canvas.create_window(150, 50, window=record, height=25, width=100)\n",
    "\n",
    "# play=Button(canvas, text='Play',font=\"Times 15 bold\", command=play)\n",
    "# canvas.create_window(250, 50, window=play, height=25, width=50)\n",
    "\n",
    "# classify=Button(canvas, text='Classify',font=\"Times 15 bold\", command=classify)\n",
    "# canvas.create_window(350, 50, window=classify, height=25, width=100)\n",
    "\n",
    "# clear=Button(canvas, text='Clear',font=\"Times 15 bold\", command=restart_program)\n",
    "# canvas.create_window(250, 100, window=clear, height=25, width=100)\n",
    "\n",
    "\n",
    "\n",
    "# mainloop()\n"
   ]
  },
  {
   "cell_type": "code",
   "execution_count": null,
   "metadata": {},
   "outputs": [],
   "source": []
  }
 ],
 "metadata": {
  "kernelspec": {
   "display_name": "Python 3",
   "language": "python",
   "name": "python3"
  },
  "language_info": {
   "codemirror_mode": {
    "name": "ipython",
    "version": 3
   },
   "file_extension": ".py",
   "mimetype": "text/x-python",
   "name": "python",
   "nbconvert_exporter": "python",
   "pygments_lexer": "ipython3",
   "version": "3.11.0"
  }
 },
 "nbformat": 4,
 "nbformat_minor": 2
}
