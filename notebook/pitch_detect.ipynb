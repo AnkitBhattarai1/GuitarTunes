{
 "cells": [
  {
   "cell_type": "code",
   "execution_count": 1,
   "metadata": {},
   "outputs": [
    {
     "name": "stdout",
     "output_type": "stream",
     "text": [
      "Collecting librosa\n",
      "  Using cached librosa-0.10.0.post2-py3-none-any.whl (253 kB)\n",
      "Collecting audioread>=2.1.9 (from librosa)\n",
      "  Using cached audioread-3.0.0.tar.gz (377 kB)\n",
      "  Installing build dependencies ... \u001b[?25ldone\n",
      "\u001b[?25h  Getting requirements to build wheel ... \u001b[?25ldone\n",
      "\u001b[?25h  Preparing metadata (pyproject.toml) ... \u001b[?25ldone\n",
      "\u001b[?25hRequirement already satisfied: numpy!=1.22.0,!=1.22.1,!=1.22.2,>=1.20.3 in /Library/Frameworks/Python.framework/Versions/3.11/lib/python3.11/site-packages (from librosa) (1.23.5)\n",
      "Requirement already satisfied: scipy>=1.2.0 in /Library/Frameworks/Python.framework/Versions/3.11/lib/python3.11/site-packages (from librosa) (1.10.1)\n",
      "Requirement already satisfied: scikit-learn>=0.20.0 in /Library/Frameworks/Python.framework/Versions/3.11/lib/python3.11/site-packages (from librosa) (1.2.2)\n",
      "Requirement already satisfied: joblib>=0.14 in /Library/Frameworks/Python.framework/Versions/3.11/lib/python3.11/site-packages (from librosa) (1.2.0)\n",
      "Requirement already satisfied: decorator>=4.3.0 in /Users/dikshantthapa/Library/Python/3.11/lib/python/site-packages (from librosa) (5.1.1)\n",
      "Collecting numba>=0.51.0 (from librosa)\n",
      "  Using cached numba-0.56.4.tar.gz (2.4 MB)\n",
      "  Installing build dependencies ... \u001b[?25ldone\n",
      "\u001b[?25h  Getting requirements to build wheel ... \u001b[?25lerror\n",
      "  \u001b[1;31merror\u001b[0m: \u001b[1msubprocess-exited-with-error\u001b[0m\n",
      "  \n",
      "  \u001b[31m×\u001b[0m \u001b[32mGetting requirements to build wheel\u001b[0m did not run successfully.\n",
      "  \u001b[31m│\u001b[0m exit code: \u001b[1;36m1\u001b[0m\n",
      "  \u001b[31m╰─>\u001b[0m \u001b[31m[22 lines of output]\u001b[0m\n",
      "  \u001b[31m   \u001b[0m Traceback (most recent call last):\n",
      "  \u001b[31m   \u001b[0m   File \"/Library/Frameworks/Python.framework/Versions/3.11/lib/python3.11/site-packages/pip/_vendor/pyproject_hooks/_in_process/_in_process.py\", line 353, in <module>\n",
      "  \u001b[31m   \u001b[0m     main()\n",
      "  \u001b[31m   \u001b[0m   File \"/Library/Frameworks/Python.framework/Versions/3.11/lib/python3.11/site-packages/pip/_vendor/pyproject_hooks/_in_process/_in_process.py\", line 335, in main\n",
      "  \u001b[31m   \u001b[0m     json_out['return_val'] = hook(**hook_input['kwargs'])\n",
      "  \u001b[31m   \u001b[0m                              ^^^^^^^^^^^^^^^^^^^^^^^^^^^^\n",
      "  \u001b[31m   \u001b[0m   File \"/Library/Frameworks/Python.framework/Versions/3.11/lib/python3.11/site-packages/pip/_vendor/pyproject_hooks/_in_process/_in_process.py\", line 118, in get_requires_for_build_wheel\n",
      "  \u001b[31m   \u001b[0m     return hook(config_settings)\n",
      "  \u001b[31m   \u001b[0m            ^^^^^^^^^^^^^^^^^^^^^\n",
      "  \u001b[31m   \u001b[0m   File \"/private/var/folders/j0/kx0rsn7x28l84ccbn6ndhx5c0000gn/T/pip-build-env-pkmzdmwp/overlay/lib/python3.11/site-packages/setuptools/build_meta.py\", line 341, in get_requires_for_build_wheel\n",
      "  \u001b[31m   \u001b[0m     return self._get_build_requires(config_settings, requirements=['wheel'])\n",
      "  \u001b[31m   \u001b[0m            ^^^^^^^^^^^^^^^^^^^^^^^^^^^^^^^^^^^^^^^^^^^^^^^^^^^^^^^^^^^^^^^^^\n",
      "  \u001b[31m   \u001b[0m   File \"/private/var/folders/j0/kx0rsn7x28l84ccbn6ndhx5c0000gn/T/pip-build-env-pkmzdmwp/overlay/lib/python3.11/site-packages/setuptools/build_meta.py\", line 323, in _get_build_requires\n",
      "  \u001b[31m   \u001b[0m     self.run_setup()\n",
      "  \u001b[31m   \u001b[0m   File \"/private/var/folders/j0/kx0rsn7x28l84ccbn6ndhx5c0000gn/T/pip-build-env-pkmzdmwp/overlay/lib/python3.11/site-packages/setuptools/build_meta.py\", line 488, in run_setup\n",
      "  \u001b[31m   \u001b[0m     self).run_setup(setup_script=setup_script)\n",
      "  \u001b[31m   \u001b[0m           ^^^^^^^^^^^^^^^^^^^^^^^^^^^^^^^^^^^^\n",
      "  \u001b[31m   \u001b[0m   File \"/private/var/folders/j0/kx0rsn7x28l84ccbn6ndhx5c0000gn/T/pip-build-env-pkmzdmwp/overlay/lib/python3.11/site-packages/setuptools/build_meta.py\", line 338, in run_setup\n",
      "  \u001b[31m   \u001b[0m     exec(code, locals())\n",
      "  \u001b[31m   \u001b[0m   File \"<string>\", line 51, in <module>\n",
      "  \u001b[31m   \u001b[0m   File \"<string>\", line 48, in _guard_py_ver\n",
      "  \u001b[31m   \u001b[0m RuntimeError: Cannot install on Python version 3.11.0; only versions >=3.7,<3.11 are supported.\n",
      "  \u001b[31m   \u001b[0m \u001b[31m[end of output]\u001b[0m\n",
      "  \n",
      "  \u001b[1;35mnote\u001b[0m: This error originates from a subprocess, and is likely not a problem with pip.\n",
      "\u001b[?25h\u001b[1;31merror\u001b[0m: \u001b[1msubprocess-exited-with-error\u001b[0m\n",
      "\n",
      "\u001b[31m×\u001b[0m \u001b[32mGetting requirements to build wheel\u001b[0m did not run successfully.\n",
      "\u001b[31m│\u001b[0m exit code: \u001b[1;36m1\u001b[0m\n",
      "\u001b[31m╰─>\u001b[0m See above for output.\n",
      "\n",
      "\u001b[1;35mnote\u001b[0m: This error originates from a subprocess, and is likely not a problem with pip.\n",
      "Note: you may need to restart the kernel to use updated packages.\n",
      "['metronome-beat.mp3', 'G_196_new.wav', 'D_147_new.wav', '.DS_Store', 'A_110_new.wav', 'B_247_new.wav', 'E4_330_new.wav', 'beep1.mp3', 'E2_82_new.wav', 'metronome-accent.mp3']\n"
     ]
    },
    {
     "ename": "ModuleNotFoundError",
     "evalue": "No module named 'librosa'",
     "output_type": "error",
     "traceback": [
      "\u001b[0;31m---------------------------------------------------------------------------\u001b[0m",
      "\u001b[0;31mModuleNotFoundError\u001b[0m                       Traceback (most recent call last)",
      "Cell \u001b[0;32mIn[1], line 6\u001b[0m\n\u001b[1;32m      4\u001b[0m \u001b[39mimport\u001b[39;00m \u001b[39mos\u001b[39;00m\n\u001b[1;32m      5\u001b[0m \u001b[39mprint\u001b[39m(os\u001b[39m.\u001b[39mlistdir(\u001b[39m\"\u001b[39m\u001b[39m../notebook/data\u001b[39m\u001b[39m\"\u001b[39m))\n\u001b[0;32m----> 6\u001b[0m \u001b[39mimport\u001b[39;00m \u001b[39mlibrosa\u001b[39;00m\n\u001b[1;32m      7\u001b[0m \u001b[39mfrom\u001b[39;00m \u001b[39mlibrosa\u001b[39;00m \u001b[39mimport\u001b[39;00m display \u001b[39mas\u001b[39;00m dsp\n\u001b[1;32m      8\u001b[0m \u001b[39mfrom\u001b[39;00m \u001b[39mmatplotlib\u001b[39;00m \u001b[39mimport\u001b[39;00m pyplot \u001b[39mas\u001b[39;00m plt\n",
      "\u001b[0;31mModuleNotFoundError\u001b[0m: No module named 'librosa'"
     ]
    }
   ],
   "source": [
    "%pip install librosa\n",
    "import numpy as np \n",
    "import pandas as pd \n",
    "import os\n",
    "print(os.listdir(\"../notebook/data\"))\n",
    "import librosa\n",
    "from librosa import display as dsp\n",
    "from matplotlib import pyplot as plt\n",
    "from keras.preprocessing.sequence import pad_sequences\n",
    "from keras.utils import to_categorical\n",
    "from sklearn.preprocessing import LabelEncoder\n",
    "from sklearn.model_selection import train_test_split\n",
    "from keras.models import Sequential\n"
   ]
  },
  {
   "cell_type": "code",
   "execution_count": 10,
   "metadata": {},
   "outputs": [],
   "source": [
    "soundFilesList=os.listdir('../notebook/data/')"
   ]
  },
  {
   "cell_type": "code",
   "execution_count": 11,
   "metadata": {},
   "outputs": [
    {
     "ename": "NameError",
     "evalue": "name 'librosa' is not defined",
     "output_type": "error",
     "traceback": [
      "\u001b[0;31m---------------------------------------------------------------------------\u001b[0m",
      "\u001b[0;31mNameError\u001b[0m                                 Traceback (most recent call last)",
      "Cell \u001b[0;32mIn[11], line 8\u001b[0m\n\u001b[1;32m      6\u001b[0m \u001b[39mfor\u001b[39;00m file \u001b[39min\u001b[39;00m soundFilesList:\n\u001b[1;32m      7\u001b[0m     tempAudioData\u001b[39m=\u001b[39m\u001b[39mlist\u001b[39m()\n\u001b[0;32m----> 8\u001b[0m     audioData,sampleRate\u001b[39m=\u001b[39mlibrosa\u001b[39m.\u001b[39mcore\u001b[39m.\u001b[39mload(baseDir\u001b[39m+\u001b[39mfile,res_type\u001b[39m=\u001b[39m\u001b[39m'\u001b[39m\u001b[39mkaiser_fast\u001b[39m\u001b[39m'\u001b[39m)\n\u001b[1;32m      9\u001b[0m     rawData\u001b[39m.\u001b[39mappend(audioData)\n\u001b[1;32m     10\u001b[0m     spectralData\u001b[39m=\u001b[39mlibrosa\u001b[39m.\u001b[39mfeature\u001b[39m.\u001b[39mspectral_bandwidth(y\u001b[39m=\u001b[39maudioData,sr\u001b[39m=\u001b[39msampleRate)\n",
      "\u001b[0;31mNameError\u001b[0m: name 'librosa' is not defined"
     ]
    }
   ],
   "source": [
    "soundLabel=[]\n",
    "soundData=[]\n",
    "rawData=[]\n",
    "baseDir='../GuitarTunes/'\n",
    "mfccSingularList=list()\n",
    "for file in soundFilesList:\n",
    "    tempAudioData=list()\n",
    "    audioData,sampleRate=librosa.core.load(baseDir+file,res_type='kaiser_fast')\n",
    "    rawData.append(audioData)\n",
    "    spectralData=librosa.feature.spectral_bandwidth(y=audioData,sr=sampleRate)\n",
    "    for sd in spectralData:\n",
    "        tempAudioData.append(sd)\n",
    "    soundData.append(tempAudioData)\n",
    "    soundLabel.append(str.split(file,'.')[0])\n",
    "print('Done')"
   ]
  },
  {
   "cell_type": "code",
   "execution_count": 12,
   "metadata": {},
   "outputs": [
    {
     "ename": "ValueError",
     "evalue": "high <= 0",
     "output_type": "error",
     "traceback": [
      "\u001b[0;31m---------------------------------------------------------------------------\u001b[0m",
      "\u001b[0;31mValueError\u001b[0m                                Traceback (most recent call last)",
      "Cell \u001b[0;32mIn[12], line 1\u001b[0m\n\u001b[0;32m----> 1\u001b[0m idx\u001b[39m=\u001b[39mnp\u001b[39m.\u001b[39;49mrandom\u001b[39m.\u001b[39;49mrandint(\u001b[39mlen\u001b[39;49m(soundData))\n\u001b[1;32m      2\u001b[0m plt\u001b[39m.\u001b[39mplot(rawData[idx])\n\u001b[1;32m      3\u001b[0m plt\u001b[39m.\u001b[39mxlabel(soundLabel[idx])\n",
      "File \u001b[0;32mmtrand.pyx:748\u001b[0m, in \u001b[0;36mnumpy.random.mtrand.RandomState.randint\u001b[0;34m()\u001b[0m\n",
      "File \u001b[0;32m_bounded_integers.pyx:1247\u001b[0m, in \u001b[0;36mnumpy.random._bounded_integers._rand_int64\u001b[0;34m()\u001b[0m\n",
      "\u001b[0;31mValueError\u001b[0m: high <= 0"
     ]
    }
   ],
   "source": [
    "idx=np.random.randint(len(soundData))\n",
    "plt.plot(rawData[idx])\n",
    "plt.xlabel(soundLabel[idx])\n",
    "plt.show()\n",
    "plt.plot(soundData[idx][0])\n",
    "plt.grid()\n",
    "plt.show()"
   ]
  },
  {
   "cell_type": "code",
   "execution_count": 14,
   "metadata": {},
   "outputs": [],
   "source": [
    "X=[]\n",
    "for s in soundData:\n",
    "    for val in s:\n",
    "        X.append(val)"
   ]
  },
  {
   "cell_type": "code",
   "execution_count": 15,
   "metadata": {},
   "outputs": [
    {
     "ename": "ValueError",
     "evalue": "max() arg is an empty sequence",
     "output_type": "error",
     "traceback": [
      "\u001b[0;31m---------------------------------------------------------------------------\u001b[0m",
      "\u001b[0;31mValueError\u001b[0m                                Traceback (most recent call last)",
      "Cell \u001b[0;32mIn[15], line 1\u001b[0m\n\u001b[0;32m----> 1\u001b[0m \u001b[39mprint\u001b[39m(\u001b[39mmax\u001b[39;49m([\u001b[39mlen\u001b[39;49m(x) \u001b[39mfor\u001b[39;49;00m x \u001b[39min\u001b[39;49;00m X]))\n\u001b[1;32m      2\u001b[0m maxlen\u001b[39m=\u001b[39m\u001b[39mmax\u001b[39m([\u001b[39mlen\u001b[39m(x) \u001b[39mfor\u001b[39;00m x \u001b[39min\u001b[39;00m X])\n\u001b[1;32m      3\u001b[0m X\u001b[39m=\u001b[39mpad_sequences(X,maxlen\u001b[39m=\u001b[39mmaxlen)\n",
      "\u001b[0;31mValueError\u001b[0m: max() arg is an empty sequence"
     ]
    }
   ],
   "source": [
    "print(max([len(x) for x in X]))\n",
    "maxlen=max([len(x) for x in X])\n",
    "X=pad_sequences(X,maxlen=maxlen)\n",
    "np.shape(X)"
   ]
  },
  {
   "cell_type": "code",
   "execution_count": 16,
   "metadata": {},
   "outputs": [
    {
     "ename": "ValueError",
     "evalue": "high <= 0",
     "output_type": "error",
     "traceback": [
      "\u001b[0;31m---------------------------------------------------------------------------\u001b[0m",
      "\u001b[0;31mValueError\u001b[0m                                Traceback (most recent call last)",
      "Cell \u001b[0;32mIn[16], line 1\u001b[0m\n\u001b[0;32m----> 1\u001b[0m idx1,idx2\u001b[39m=\u001b[39mnp\u001b[39m.\u001b[39;49mrandom\u001b[39m.\u001b[39;49mrandint(\u001b[39mlen\u001b[39;49m(X)),np\u001b[39m.\u001b[39mrandom\u001b[39m.\u001b[39mrandint(\u001b[39mlen\u001b[39m(X))\n\u001b[1;32m      2\u001b[0m plt\u001b[39m.\u001b[39mscatter(X[idx1],X[idx2],c\u001b[39m=\u001b[39m[\u001b[39m'\u001b[39m\u001b[39mr\u001b[39m\u001b[39m'\u001b[39m,\u001b[39m'\u001b[39m\u001b[39mb\u001b[39m\u001b[39m'\u001b[39m],alpha\u001b[39m=\u001b[39m\u001b[39m0.5\u001b[39m)\n\u001b[1;32m      3\u001b[0m plt\u001b[39m.\u001b[39mxlabel(soundLabel[idx1])\n",
      "File \u001b[0;32mmtrand.pyx:748\u001b[0m, in \u001b[0;36mnumpy.random.mtrand.RandomState.randint\u001b[0;34m()\u001b[0m\n",
      "File \u001b[0;32m_bounded_integers.pyx:1247\u001b[0m, in \u001b[0;36mnumpy.random._bounded_integers._rand_int64\u001b[0;34m()\u001b[0m\n",
      "\u001b[0;31mValueError\u001b[0m: high <= 0"
     ]
    }
   ],
   "source": [
    "idx1,idx2=np.random.randint(len(X)),np.random.randint(len(X))\n",
    "plt.scatter(X[idx1],X[idx2],c=['r','b'],alpha=0.5)\n",
    "plt.xlabel(soundLabel[idx1])\n",
    "plt.ylabel(soundLabel[idx2])\n",
    "plt.show()"
   ]
  },
  {
   "cell_type": "code",
   "execution_count": 17,
   "metadata": {},
   "outputs": [
    {
     "ename": "ValueError",
     "evalue": "high <= 0",
     "output_type": "error",
     "traceback": [
      "\u001b[0;31m---------------------------------------------------------------------------\u001b[0m",
      "\u001b[0;31mValueError\u001b[0m                                Traceback (most recent call last)",
      "Cell \u001b[0;32mIn[17], line 1\u001b[0m\n\u001b[0;32m----> 1\u001b[0m idx\u001b[39m=\u001b[39mnp\u001b[39m.\u001b[39;49mrandom\u001b[39m.\u001b[39;49mrandint(\u001b[39mlen\u001b[39;49m(X))\n\u001b[1;32m      2\u001b[0m plt\u001b[39m.\u001b[39mplot(soundData[idx][\u001b[39m0\u001b[39m])\n\u001b[1;32m      3\u001b[0m plt\u001b[39m.\u001b[39mylabel(soundLabel[idx])\n",
      "File \u001b[0;32mmtrand.pyx:748\u001b[0m, in \u001b[0;36mnumpy.random.mtrand.RandomState.randint\u001b[0;34m()\u001b[0m\n",
      "File \u001b[0;32m_bounded_integers.pyx:1247\u001b[0m, in \u001b[0;36mnumpy.random._bounded_integers._rand_int64\u001b[0;34m()\u001b[0m\n",
      "\u001b[0;31mValueError\u001b[0m: high <= 0"
     ]
    }
   ],
   "source": [
    "idx=np.random.randint(len(X))\n",
    "plt.plot(soundData[idx][0])\n",
    "plt.ylabel(soundLabel[idx])\n",
    "plt.grid()\n",
    "plt.show()"
   ]
  },
  {
   "cell_type": "code",
   "execution_count": 18,
   "metadata": {},
   "outputs": [
    {
     "data": {
      "text/plain": [
       "0"
      ]
     },
     "execution_count": 18,
     "metadata": {},
     "output_type": "execute_result"
    }
   ],
   "source": [
    "num_classes=len(set(soundLabel))\n",
    "num_classes"
   ]
  },
  {
   "cell_type": "code",
   "execution_count": 19,
   "metadata": {},
   "outputs": [
    {
     "ename": "NameError",
     "evalue": "name 'LabelEncoder' is not defined",
     "output_type": "error",
     "traceback": [
      "\u001b[0;31m---------------------------------------------------------------------------\u001b[0m",
      "\u001b[0;31mNameError\u001b[0m                                 Traceback (most recent call last)",
      "Cell \u001b[0;32mIn[19], line 1\u001b[0m\n\u001b[0;32m----> 1\u001b[0m targetLabelEncoder\u001b[39m=\u001b[39mLabelEncoder()\n\u001b[1;32m      2\u001b[0m y\u001b[39m=\u001b[39mtargetLabelEncoder\u001b[39m.\u001b[39mfit_transform(soundLabel)\n\u001b[1;32m      3\u001b[0m \u001b[39m#X=X.reshape(X.shape[0],X.shape[1],1)\u001b[39;00m\n\u001b[1;32m      4\u001b[0m \u001b[39m#y=to_categorical(y=target,num_classes=num_classes)\u001b[39;00m\n\u001b[1;32m      5\u001b[0m \u001b[39m#input_shape=(X.shape[1],1)\u001b[39;00m\n",
      "\u001b[0;31mNameError\u001b[0m: name 'LabelEncoder' is not defined"
     ]
    }
   ],
   "source": [
    "targetLabelEncoder=LabelEncoder()\n",
    "y=targetLabelEncoder.fit_transform(soundLabel)\n",
    "#X=X.reshape(X.shape[0],X.shape[1],1)\n",
    "#y=to_categorical(y=target,num_classes=num_classes)\n",
    "#input_shape=(X.shape[1],1)"
   ]
  },
  {
   "cell_type": "code",
   "execution_count": 20,
   "metadata": {},
   "outputs": [
    {
     "ename": "NameError",
     "evalue": "name 'LabelEncoder' is not defined",
     "output_type": "error",
     "traceback": [
      "\u001b[0;31m---------------------------------------------------------------------------\u001b[0m",
      "\u001b[0;31mNameError\u001b[0m                                 Traceback (most recent call last)",
      "Cell \u001b[0;32mIn[20], line 1\u001b[0m\n\u001b[0;32m----> 1\u001b[0m targetLabelEncoder\u001b[39m=\u001b[39mLabelEncoder()\n\u001b[1;32m      2\u001b[0m y\u001b[39m=\u001b[39mtargetLabelEncoder\u001b[39m.\u001b[39mfit_transform(soundLabel)\n\u001b[1;32m      3\u001b[0m \u001b[39m#X=X.reshape(X.shape[0],X.shape[1],1)\u001b[39;00m\n\u001b[1;32m      4\u001b[0m \u001b[39m#y=to_categorical(y=target,num_classes=num_classes)\u001b[39;00m\n\u001b[1;32m      5\u001b[0m \u001b[39m#input_shape=(X.shape[1],1)\u001b[39;00m\n",
      "\u001b[0;31mNameError\u001b[0m: name 'LabelEncoder' is not defined"
     ]
    }
   ],
   "source": [
    "targetLabelEncoder=LabelEncoder()\n",
    "y=targetLabelEncoder.fit_transform(soundLabel)\n",
    "#X=X.reshape(X.shape[0],X.shape[1],1)\n",
    "#y=to_categorical(y=target,num_classes=num_classes)\n",
    "#input_shape=(X.shape[1],1)"
   ]
  },
  {
   "cell_type": "code",
   "execution_count": 21,
   "metadata": {},
   "outputs": [
    {
     "ename": "NameError",
     "evalue": "name 'y' is not defined",
     "output_type": "error",
     "traceback": [
      "\u001b[0;31m---------------------------------------------------------------------------\u001b[0m",
      "\u001b[0;31mNameError\u001b[0m                                 Traceback (most recent call last)",
      "Cell \u001b[0;32mIn[21], line 1\u001b[0m\n\u001b[0;32m----> 1\u001b[0m np\u001b[39m.\u001b[39mshape(X),np\u001b[39m.\u001b[39mshape(y)\n",
      "\u001b[0;31mNameError\u001b[0m: name 'y' is not defined"
     ]
    }
   ],
   "source": [
    "np.shape(X),np.shape(y)"
   ]
  },
  {
   "cell_type": "code",
   "execution_count": 22,
   "metadata": {},
   "outputs": [],
   "source": [
    "from sklearn.svm import SVC"
   ]
  },
  {
   "cell_type": "code",
   "execution_count": 23,
   "metadata": {},
   "outputs": [
    {
     "ename": "NameError",
     "evalue": "name 'train_test_split' is not defined",
     "output_type": "error",
     "traceback": [
      "\u001b[0;31m---------------------------------------------------------------------------\u001b[0m",
      "\u001b[0;31mNameError\u001b[0m                                 Traceback (most recent call last)",
      "Cell \u001b[0;32mIn[23], line 1\u001b[0m\n\u001b[0;32m----> 1\u001b[0m X_train,X_test,y_train,y_test\u001b[39m=\u001b[39mtrain_test_split(X,y,train_size\u001b[39m=\u001b[39m\u001b[39m0.80\u001b[39m,test_size\u001b[39m=\u001b[39m\u001b[39m0.20\u001b[39m,random_state\u001b[39m=\u001b[39m\u001b[39m43\u001b[39m)\n\u001b[1;32m      2\u001b[0m svcClf\u001b[39m=\u001b[39mSVC()\n\u001b[1;32m      3\u001b[0m svcClf\u001b[39m.\u001b[39mfit(X,y)\n",
      "\u001b[0;31mNameError\u001b[0m: name 'train_test_split' is not defined"
     ]
    }
   ],
   "source": [
    "X_train,X_test,y_train,y_test=train_test_split(X,y,train_size=0.80,test_size=0.20,random_state=43)\n",
    "svcClf=SVC()\n",
    "svcClf.fit(X,y)\n",
    "print('Accuracy:',svcClf.score(X_test,y_test))"
   ]
  },
  {
   "cell_type": "code",
   "execution_count": 24,
   "metadata": {},
   "outputs": [
    {
     "ename": "NameError",
     "evalue": "name 'X_test' is not defined",
     "output_type": "error",
     "traceback": [
      "\u001b[0;31m---------------------------------------------------------------------------\u001b[0m",
      "\u001b[0;31mNameError\u001b[0m                                 Traceback (most recent call last)",
      "Cell \u001b[0;32mIn[24], line 1\u001b[0m\n\u001b[0;32m----> 1\u001b[0m idx\u001b[39m=\u001b[39mnp\u001b[39m.\u001b[39mrandom\u001b[39m.\u001b[39mrandint(\u001b[39mlen\u001b[39m(X_test))\n\u001b[1;32m      2\u001b[0m \u001b[39mprint\u001b[39m(\u001b[39m'\u001b[39m\u001b[39mPred:\u001b[39m\u001b[39m'\u001b[39m,targetLabelEncoder\u001b[39m.\u001b[39minverse_transform(svcClf\u001b[39m.\u001b[39mpredict([X_test[idx]]))[\u001b[39m0\u001b[39m])\n\u001b[1;32m      3\u001b[0m \u001b[39mprint\u001b[39m(\u001b[39m'\u001b[39m\u001b[39mActual:\u001b[39m\u001b[39m'\u001b[39m,targetLabelEncoder\u001b[39m.\u001b[39minverse_transform(y_test[idx]))\n",
      "\u001b[0;31mNameError\u001b[0m: name 'X_test' is not defined"
     ]
    }
   ],
   "source": [
    "idx=np.random.randint(len(X_test))\n",
    "print('Pred:',targetLabelEncoder.inverse_transform(svcClf.predict([X_test[idx]]))[0])\n",
    "print('Actual:',targetLabelEncoder.inverse_transform(y_test[idx]))"
   ]
  }
 ],
 "metadata": {
  "kernelspec": {
   "display_name": "Python 3",
   "language": "python",
   "name": "python3"
  },
  "language_info": {
   "codemirror_mode": {
    "name": "ipython",
    "version": 3
   },
   "file_extension": ".py",
   "mimetype": "text/x-python",
   "name": "python",
   "nbconvert_exporter": "python",
   "pygments_lexer": "ipython3",
   "version": "3.11.0"
  },
  "orig_nbformat": 4
 },
 "nbformat": 4,
 "nbformat_minor": 2
}
