{
 "cells": [
  {
   "cell_type": "markdown",
   "metadata": {},
   "source": [
    "# Guitar Tunes\n",
    "- Guitar Tunes is a mobile application that helps guitar players to tune their instruments accurately. The app uses the built-in microphone of the device to listen to the sound of the guitar and provides visual and auditory feedback to indicate the tuning status. The app features a range of tuning modes, including standard tuning, alternate tuning, and custom tuning, which can be adjusted according to the player's preference. It also offers various display options such as a visual representation of the guitar strings, a tuning meter, and a pitch pipe. The app is designed to be user-friendly, with a simple and intuitive interface that makes it easy to use even for beginners. With its accuracy and versatility, this guitar tuning app is an essential tool for any guitar player looking to achieve the perfect sound."
   ]
  },
  {
   "cell_type": "markdown",
   "metadata": {},
   "source": [
    "In this notebook, we will look into how we can process the audio to detect the pitch. We will look into all the algorithms we can use analyse the best algorithm for our case. We will also visualize the algorithms as much as possible."
   ]
  },
  {
   "cell_type": "code",
   "execution_count": null,
   "metadata": {},
   "outputs": [],
   "source": [
    "#Imports\n",
    "import numpy as np\n",
    "import IPython\n",
    "import matplotlib.pyplot as plt\n",
    "from scipy.io import wavfile\n",
    "from scipy.fft import fft\n",
    "from scipy import signal"
   ]
  },
  {
   "cell_type": "code",
   "execution_count": null,
   "metadata": {},
   "outputs": [],
   "source": [
    "#Reading Sound File\n",
    "audioPath = './data/flutter_sound_example.wav'\n",
    "samplerate, data = wavfile.read(audioPath)\n",
    "data = data[0: samplerate]\n",
    "IPython.display.Audio(audioPath)\n",
    "# print(samplerate)"
   ]
  },
  {
   "cell_type": "code",
   "execution_count": null,
   "metadata": {},
   "outputs": [],
   "source": [
    "# print(data)\n",
    "plt.plot(data)\n",
    "plt.ylabel(\"Amplitude\")\n",
    "plt.xlabel(\"Time\")\n",
    "plt.show()"
   ]
  },
  {
   "cell_type": "code",
   "execution_count": null,
   "metadata": {},
   "outputs": [],
   "source": [
    "window = signal.windows.hann(len(data))\n",
    "plt.plot(window)\n",
    "plt.title(\"Hann window\")\n",
    "plt.ylabel(\"Amplitude\")\n",
    "plt.xlabel(\"Sample\")\n",
    "plt.show()"
   ]
  },
  {
   "cell_type": "code",
   "execution_count": null,
   "metadata": {},
   "outputs": [],
   "source": [
    "windowed_data = [data[i] * window[i] for i in range(len(data))]\n",
    "plt.plot(windowed_data)\n",
    "plt.ylabel(\"Amplitude\")\n",
    "plt.xlabel(\"Time\")\n",
    "plt.show()"
   ]
  },
  {
   "cell_type": "code",
   "execution_count": null,
   "metadata": {},
   "outputs": [],
   "source": [
    "fft_data = fft(windowed_data)\n",
    "plt.plot(np.abs(fft_data))\n",
    "plt.show()"
   ]
  },
  {
   "cell_type": "code",
   "execution_count": null,
   "metadata": {},
   "outputs": [],
   "source": [
    "\n",
    "def autocorrelation_pitch_detection(signal, sample_rate):\n",
    "    n = len(signal)\n",
    "    correlation = np.correlate(signal, signal, mode='full')\n",
    "    correlation = correlation[n-1:]\n",
    "\n",
    "    lag = np.argmax(correlation)\n",
    "    if lag == 0:\n",
    "        return 0\n",
    "    else:\n",
    "        return sample_rate / lag\n",
    "\n",
    "pitch = autocorrelation_pitch_detection(windowed_data, samplerate)\n",
    "print(pitch)\n"
   ]
  },
  {
   "cell_type": "code",
   "execution_count": null,
   "metadata": {},
   "outputs": [],
   "source": []
  }
 ],
 "metadata": {
  "kernelspec": {
   "display_name": "Python 3 (ipykernel)",
   "language": "python",
   "name": "python3"
  },
  "language_info": {
   "codemirror_mode": {
    "name": "ipython",
    "version": 3
   },
   "file_extension": ".py",
   "mimetype": "text/x-python",
   "name": "python",
   "nbconvert_exporter": "python",
   "pygments_lexer": "ipython3",
   "version": "3.10.9"
  },
  "vscode": {
   "interpreter": {
    "hash": "31f2aee4e71d21fbe5cf8b01ff0e069b9275f58929596ceb00d14d90e3e16cd6"
   }
  }
 },
 "nbformat": 4,
 "nbformat_minor": 2
}
