{
 "cells": [
  {
   "attachments": {},
   "cell_type": "markdown",
   "metadata": {},
   "source": [
    "# Guitar Tunes\n",
    "- Guitar Tunes is a mobile application that helps guitar players to tune their instruments accurately. The app uses the built-in microphone of the device to listen to the sound of the guitar and provides visual and auditory feedback to indicate the tuning status. The app features a range of tuning modes, including standard tuning, alternate tuning, and custom tuning, which can be adjusted according to the player's preference. It also offers various display options such as a visual representation of the guitar strings, a tuning meter, and a pitch pipe. The app is designed to be user-friendly, with a simple and intuitive interface that makes it easy to use even for beginners. With its accuracy and versatility, this guitar tuning app is an essential tool for any guitar player looking to achieve the perfect sound."
   ]
  },
  {
   "attachments": {},
   "cell_type": "markdown",
   "metadata": {},
   "source": [
    "In this notebook, we will look into how we can process the audio to detect the pitch. We will look into all the algorithms we can use analyse the best algorithm for our case. We will also visualize the algorithms as much as possible."
   ]
  },
  {
   "cell_type": "code",
   "execution_count": null,
   "metadata": {},
   "outputs": [],
   "source": [
    "import "
   ]
  }
 ],
 "metadata": {
  "kernelspec": {
   "display_name": "Python 3",
   "language": "python",
   "name": "python3"
  },
  "language_info": {
   "name": "python",
   "version": "3.10.6"
  },
  "orig_nbformat": 4,
  "vscode": {
   "interpreter": {
    "hash": "31f2aee4e71d21fbe5cf8b01ff0e069b9275f58929596ceb00d14d90e3e16cd6"
   }
  }
 },
 "nbformat": 4,
 "nbformat_minor": 2
}
